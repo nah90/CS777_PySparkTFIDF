{
  "cells": [
    {
      "cell_type": "markdown",
      "metadata": {
        "id": "view-in-github",
        "colab_type": "text"
      },
      "source": [
        "<a href=\"https://colab.research.google.com/github/nah90/CS777_PySparkTFIDF/blob/main/MET_CS_777_Assignment_2_Horak.ipynb\" target=\"_parent\"><img src=\"https://colab.research.google.com/assets/colab-badge.svg\" alt=\"Open In Colab\"/></a>"
      ]
    },
    {
      "cell_type": "markdown",
      "source": [
        "###BU MET CS 777 ASSIGNMENT 2###"
      ],
      "metadata": {
        "id": "kYtb3zutv_PS"
      }
    },
    {
      "cell_type": "code",
      "source": [
        "!pip install --ignore-installed -q pyspark==3.2.1"
      ],
      "metadata": {
        "id": "DazkoYEnNvCk"
      },
      "execution_count": null,
      "outputs": []
    },
    {
      "cell_type": "code",
      "execution_count": null,
      "metadata": {
        "id": "Cy3Abxo3v2gT",
        "colab": {
          "base_uri": "https://localhost:8080/"
        },
        "outputId": "02022f85-ac25-4381-dcf5-477068d9cd38"
      },
      "outputs": [
        {
          "output_type": "stream",
          "name": "stderr",
          "text": [
            "/usr/local/lib/python3.7/dist-packages/pyspark/sql/context.py:79: FutureWarning: Deprecated in 3.0.0. Use SparkSession.builder.getOrCreate() instead.\n",
            "  FutureWarning\n"
          ]
        }
      ],
      "source": [
        "import sys\n",
        "import re\n",
        "import numpy as np\n",
        "import nltk\n",
        "\n",
        "from numpy import dot\n",
        "from numpy.linalg import norm\n",
        "from pyspark import SparkContext\n",
        "from pyspark.sql import SparkSession, SQLContext\n",
        "from nltk.corpus import stopwords\n",
        "from nltk.stem import PorterStemmer\n",
        "from nltk.tokenize import word_tokenize\n",
        "\n",
        "sc = SparkContext.getOrCreate()\n",
        "spark = SparkSession.builder.getOrCreate()\n",
        "sqlContext = SQLContext(sc)"
      ]
    },
    {
      "cell_type": "code",
      "execution_count": null,
      "metadata": {
        "id": "udC6BOD9v2gW"
      },
      "outputs": [],
      "source": [
        "# Set the file paths on your local machine\n",
        "# Change this line later on your python script when you want to run this on the CLOUD (GC or AWS)\n",
        "\n",
        "\n",
        "wikiPagesFile=\"WikipediaPagesOneDocPerLine1000LinesSmall.txt.bz2\"\n",
        "wikiCategoryFile=\"wiki-categorylinks-small.csv.bz2\"\n",
        "#wikiPagesFile=\"gs://met-cs-777-data/WikipediaPagesOneDocPerLine1000LinesSmall.txt.bz2\"\n",
        "#wikiCategoryFile=\"gs://met-cs-777-data/wiki-categorylinks-small.csv.bz2\""
      ]
    },
    {
      "cell_type": "code",
      "execution_count": null,
      "metadata": {
        "colab": {
          "base_uri": "https://localhost:8080/"
        },
        "id": "UHJbIK0Pv2gW",
        "outputId": "45c1ce6b-96b7-4652-8953-4c2c0c00c632"
      },
      "outputs": [
        {
          "output_type": "execute_result",
          "data": {
            "text/plain": [
              "['\"434042\",\"1987_debut_albums\"', '\"434042\",\"Albums_produced_by_Mike_Varney\"']"
            ]
          },
          "metadata": {},
          "execution_count": 28
        }
      ],
      "source": [
        "# Read two files into RDDs\n",
        "\n",
        "wikiCategoryLinks=sc.textFile(wikiCategoryFile)\n",
        "\n",
        "wikiCats=wikiCategoryLinks.map(lambda x: x.split(\",\")).map(lambda x: (x[0].replace('\"', ''), x[1].replace('\"', '') ))\n",
        "\n",
        "# Now the wikipages\n",
        "wikiPages = sc.textFile(wikiPagesFile)\n",
        "\n",
        "wikiCategoryLinks.take(2)"
      ]
    },
    {
      "cell_type": "code",
      "execution_count": null,
      "metadata": {
        "id": "_36uV9rrv2gX",
        "colab": {
          "base_uri": "https://localhost:8080/"
        },
        "outputId": "6f40d487-c7de-4136-88b9-9c018f3820b7"
      },
      "outputs": [
        {
          "output_type": "execute_result",
          "data": {
            "text/plain": [
              "[('434042', '1987_debut_albums')]"
            ]
          },
          "metadata": {},
          "execution_count": 29
        }
      ],
      "source": [
        "wikiCats.take(1)"
      ]
    },
    {
      "cell_type": "code",
      "execution_count": null,
      "metadata": {
        "id": "y-d24JgXv2gY"
      },
      "outputs": [],
      "source": [
        "df = spark.read.csv(wikiPagesFile)\n",
        "\n",
        "# Uncomment this line if you want to take look inside the file. \n",
        "#df.take(1)"
      ]
    },
    {
      "cell_type": "code",
      "execution_count": null,
      "metadata": {
        "id": "SbdcT7YTv2gY",
        "colab": {
          "base_uri": "https://localhost:8080/"
        },
        "outputId": "98ea4c55-1bf7-4fae-8184-91f7ceaf5cad"
      },
      "outputs": [
        {
          "output_type": "stream",
          "name": "stdout",
          "text": [
            "1000\n"
          ]
        }
      ],
      "source": [
        "# Assumption: Each document is stored in one line of the text file\n",
        "# We need this count later ... \n",
        "numberOfDocs = wikiPages.count()\n",
        "\n",
        "print(numberOfDocs)\n",
        "# Each entry in validLines will be a line from the text file\n",
        "validLines = wikiPages.filter(lambda x : 'id' in x and 'url=' in x)\n",
        "\n",
        "# Now, we transform it into a set of (docID, text) pairs\n",
        "keyAndText = validLines.map(lambda x : (x[x.index('id=\"') + 4 : x.index('\" url=')], x[x.index('\">') + 2:][:-6])) "
      ]
    },
    {
      "cell_type": "code",
      "execution_count": null,
      "metadata": {
        "id": "GXDn01bzv2gZ"
      },
      "outputs": [],
      "source": [
        "def buildArray(listOfIndices):\n",
        "    \n",
        "    returnVal = np.zeros(20000)\n",
        "    \n",
        "    for index in listOfIndices:\n",
        "        returnVal[index] = returnVal[index] + 1\n",
        "    \n",
        "    mysum = np.sum(returnVal)\n",
        "    \n",
        "    returnVal = np.divide(returnVal, mysum)\n",
        "    \n",
        "    return returnVal\n",
        "\n",
        "\n",
        "def build_zero_one_array (listOfIndices):\n",
        "    \n",
        "    returnVal = np.zeros (20000)\n",
        "    \n",
        "    for index in listOfIndices:\n",
        "        if returnVal[index] == 0: returnVal[index] = 1\n",
        "    \n",
        "    return returnVal\n",
        "\n",
        "\n",
        "def stringVector(x):\n",
        "    returnVal = str(x[0])\n",
        "    for j in x[1]:\n",
        "        returnVal += ',' + str(j)\n",
        "    return returnVal\n",
        "\n",
        "\n",
        "\n",
        "def cousinSim (x,y):\n",
        "\tnormA = np.linalg.norm(x)\n",
        "\tnormB = np.linalg.norm(y)\n",
        "\treturn np.dot(x,y)/(normA*normB)"
      ]
    },
    {
      "cell_type": "code",
      "execution_count": null,
      "metadata": {
        "id": "ysJVPjC6v2ga",
        "colab": {
          "base_uri": "https://localhost:8080/"
        },
        "outputId": "17d118ca-3e58-4c90-c8a1-a04b03610d24"
      },
      "outputs": [
        {
          "output_type": "stream",
          "name": "stdout",
          "text": [
            "Top Words in Corpus: [('the', 74530), ('of', 34512), ('and', 28479), ('in', 27758), ('to', 22583), ('a', 21212), ('was', 12160), ('as', 8811), ('for', 8773), ('on', 8435), ('is', 8392), ('s', 8291), ('by', 7483), ('with', 7108), ('that', 6935), ('he', 5552), ('from', 5216), ('his', 5041), ('at', 4810), ('it', 4442)]\n",
            "Word Postions in our Feature Matrix. Last 20 words in 20k positions:  [('quebecor', 19999), ('poten', 19998), ('kasada', 19997), ('yadnya', 19996), ('drift', 19995), ('iata', 19994), ('satire', 19993), ('expreso', 19992), ('olimpico', 19991), ('auxiliaries', 19990), ('tenses', 19989), ('petherick', 19988), ('stowe', 19987), ('infimum', 19986), ('parramatta', 19985), ('rimpac', 19984), ('hyderabad', 19983), ('cubes', 19982), ('meats', 19981), ('chaat', 19980)]\n"
          ]
        }
      ],
      "source": [
        "#TASK 1\n",
        "# Now, we transform it into a set of (docID, text) pairs\n",
        "keyAndText = validLines.map(lambda x : (x[x.index('id=\"') + 4 : x.index('\" url=')], x[x.index('\">') + 2:][:-6]))\n",
        "\n",
        "# Now, we split the text in each (docID, text) pair into a list of words\n",
        "# After this step, we have a data set with\n",
        "# (docID, [\"word1\", \"word2\", \"word3\", ...])\n",
        "# We use a regular expression here to make\n",
        "# sure that the program does not break down on some of the documents\n",
        "\n",
        "regex = re.compile('[^a-zA-Z]')\n",
        "\n",
        "# remove all non letter characters\n",
        "keyAndListOfWords = keyAndText.map(lambda x : (str(x[0]), regex.sub(' ', x[1]).lower().split()))\n",
        "# better solution here is to use NLTK tokenizer\n",
        "\n",
        "# Now get the top 20,000 words... first change (docID, [\"word1\", \"word2\", \"word3\", ...])\n",
        "# to (\"word1\", 1) (\"word2\", 1)...\n",
        "\n",
        "allWords = keyAndListOfWords.flatMap(lambda x: [(a,1) for a in x[1]])\n",
        "\n",
        "\n",
        "\n",
        "####TO REMOVE STOPWORDS\n",
        "\n",
        "#nltk.download('stopwords')\n",
        "#stopwords = list(stopwords.words('english'))\n",
        "#allWords = allWords.filter(lambda x: x[0] not in stopwords)\n",
        "\n",
        "#stemming\n",
        "#stemmer = PorterStemmer()\n",
        "#allWords = allWords.filter(lambda x: stemmer.stem(x[0]))\n",
        "\n",
        "#print(allWords.take(100))\n",
        "\n",
        "####\n",
        "\n",
        "\n",
        "\n",
        "\n",
        "# Now, count all of the words, giving us (\"word1\", 1433), (\"word2\", 3423423), etc.\n",
        "allCounts = allWords.reduceByKey(lambda x, y: x+y)\n",
        "\n",
        "#print(allCounts.count())\n",
        "\n",
        "# Get the top 20,000 words in a local array in a sorted format based on frequency\n",
        "# If you want to run it on your laptio, it may a longer time for top 20k words. \n",
        "topWords = allCounts.top(20000, lambda x: x[1])\n",
        "\n",
        "print(\"Top Words in Corpus:\", allCounts.top(20, key=lambda x: x[1]))\n",
        "\n",
        "# We'll create a RDD that has a set of (word, dictNum) pairs\n",
        "# start by creating an RDD that has the number 0 through 20000\n",
        "# 20000 is the number of words that will be in our dictionary\n",
        "topWordsK = sc.parallelize(range(20000))\n",
        "\n",
        "# Now, we transform (0), (1), (2), ... to (\"MostCommonWord\", 1)\n",
        "# (\"NextMostCommon\", 2), ...\n",
        "# the number will be the spot in the dictionary used to tell us\n",
        "# where the word is located\n",
        "dictionary = topWordsK.map (lambda x : (topWords[x][0], x))\n",
        "dict_data = dictionary.collectAsMap()\n",
        "sc.broadcast(dict_data)\n",
        "\n",
        "print(\"Word Postions in our Feature Matrix. Last 20 words in 20k positions: \", dictionary.top(20, lambda x : x[1]))"
      ]
    },
    {
      "cell_type": "code",
      "execution_count": null,
      "metadata": {
        "id": "km92GyyBv2ga",
        "colab": {
          "base_uri": "https://localhost:8080/"
        },
        "outputId": "548a9522-87d6-4f67-e305-c3e1bc1a0f01"
      },
      "outputs": [
        {
          "output_type": "stream",
          "name": "stdout",
          "text": [
            "[('431949', array([0.07558791, 0.02900336, 0.02329227, ..., 0.        , 0.        ,\n",
            "       0.        ])), ('431952', array([0.08850932, 0.02950311, 0.04658385, ..., 0.        , 0.        ,\n",
            "       0.        ])), ('431959', array([0.08685662, 0.04136029, 0.03584559, ..., 0.        , 0.        ,\n",
            "       0.        ]))]\n"
          ]
        }
      ],
      "source": [
        "# Next, we get a RDD that has, for each (docID, [\"word1\", \"word2\", \"word3\", ...]),\n",
        "# (\"word1\", docID), (\"word2\", docId), ...\n",
        "\n",
        "allWordsWithDocID = keyAndListOfWords.flatMap(lambda x: ((j, x[0]) for j in x[1]))\n",
        "\n",
        "# Now join and link them, to get a set of (\"word1\", (docID, dictionaryPos)) pairs\n",
        "allDictionaryWords = allWordsWithDocID.map(lambda x: (x[0], (x[1], dict_data.get(x[0]))) if x[0] in dict_data.keys() else None).filter(lambda x: x!=None)\n",
        "#allDictionaryWords = dictionary.join(allWordsWithDocID)\n",
        "\n",
        "# Now, we drop the actual word itself to get a set of (docID, dictionaryPos) pairs\n",
        "justDocAndPos = allDictionaryWords.map(lambda x: (x[1][0], x[1][1]))\n",
        "\n",
        "# Now get a set of (docID, [dictionaryPos1, dictionaryPos2, dictionaryPos3...]) pairs\n",
        "allDictionaryWordsInEachDoc = justDocAndPos.groupByKey()\n",
        "\n",
        "# The following line this gets us a set of\n",
        "# (docID,  [dictionaryPos1, dictionaryPos2, dictionaryPos3...]) pairs\n",
        "# and converts the dictionary positions to a bag-of-words numpy array...\n",
        "allDocsAsNumpyArrays = allDictionaryWordsInEachDoc.map(lambda x: (x[0], buildArray(x[1])))\n",
        "\n",
        "print(allDocsAsNumpyArrays.take(3))"
      ]
    },
    {
      "cell_type": "code",
      "execution_count": null,
      "metadata": {
        "id": "4Uhb5R5xv2gb",
        "colab": {
          "base_uri": "https://localhost:8080/"
        },
        "outputId": "dd4a5c62-e0ba-4ba6-8af1-8f60ff413393"
      },
      "outputs": [
        {
          "output_type": "stream",
          "name": "stdout",
          "text": [
            "[('431949', array([0.00638485, 0.00241835, 0.00327052, ..., 0.        , 0.        ,\n",
            "       0.        ])), ('431952', array([0.00747631, 0.00246002, 0.00654094, ..., 0.        , 0.        ,\n",
            "       0.        ]))]\n"
          ]
        }
      ],
      "source": [
        "# Now, create a version of allDocsAsNumpyArrays where, in the array,\n",
        "# every entry is either zero or one.\n",
        "# A zero means that the word does not occur,\n",
        "# and a one means that it does.\n",
        "\n",
        "zeroOrOne = allDocsAsNumpyArrays.map(lambda x: (\"\", np.clip(np.multiply(x[1], 9e9), 0, 1) ) )\n",
        "\n",
        "# Now, add up all of those arrays into a single array, where the\n",
        "# i^th entry tells us how many\n",
        "# individual documents the i^th word in the dictionary appeared in\n",
        "dfArray = zeroOrOne.reduce(lambda x1, x2: (\"\", np.add(x1[1], x2[1])))[1]\n",
        "\n",
        "# Create an array of 20,000 entries, each entry with the value numberOfDocs (number of docs)\n",
        "multiplier = np.full(20000, numberOfDocs)\n",
        "\n",
        "# Get the version of dfArray where the i^th entry is the inverse-document frequency for the\n",
        "# i^th word in the corpus\n",
        "idfArray = np.log(np.divide(multiplier, dfArray))\n",
        "sc.broadcast(idfArray)\n",
        "\n",
        "# Finally, convert all of the tf vectors in allDocsAsNumpyArrays to tf * idf vectors\n",
        "allDocsAsNumpyArraysTFidf = allDocsAsNumpyArrays.map(lambda x: (x[0], np.multiply(x[1], idfArray)))\n",
        "\n",
        "print(allDocsAsNumpyArraysTFidf.take(2))"
      ]
    },
    {
      "cell_type": "code",
      "execution_count": null,
      "metadata": {
        "id": "tdGjsDDav2gb",
        "colab": {
          "base_uri": "https://localhost:8080/"
        },
        "outputId": "2248b14a-3070-4e47-c781-4d71df3ae849"
      },
      "outputs": [
        {
          "output_type": "stream",
          "name": "stdout",
          "text": [
            "[('434042', '1987_debut_albums')]\n",
            "{'432283', '418323', '418434', '432131', '429298', '456158', '456245', '455271', '455191', '418442', '429220', '455907', '418436', '455347', '431959', '429267', '429258', '456146', '418524', '455987', '434027', '433584', '418516', '433888', '429291', '455844', '434065', '418479', '433481', '455212', '433630', '432346', '433950', '456302', '432318', '429144', '456074', '429348', '429234', '429280', '456091', '455870', '456243', '456343', '429137', '455198', '455199', '455035', '418356', '429227', '433941', '418638', '418544', '418599', '418444', '418611', '433653', '428956', '429155', '429172', '433955', '418664', '429326', '433616', '429203', '418592', '455798', '432145', '454988', '418373', '418450', '455741', '433821', '429266', '418605', '418540', '455096', '456145', '433664', '433798', '428991', '418582', '433739', '429323', '433475', '429253', '454907', '429306', '433856', '429211', '454875', '432000', '455317', '418512', '456028', '418580', '429301', '455962', '432364', '418514', '432052', '432214', '455813', '432213', '431989', '455839', '456350', '418390', '432143', '432104', '455124', '456178', '454889', '432370', '428977', '454995', '433675', '433825', '455235', '455823', '432014', '429273', '455251', '429331', '418558', '429279', '456127', '456366', '454881', '455275', '418537', '455350', '418496', '455264', '432035', '456149', '456048', '429339', '429327', '433613', '455799', '454961', '433838', '432388', '456311', '428994', '433886', '432181', '418553', '456253', '455330', '433463', '433508', '456299', '455852', '418423', '418521', '455346', '455042', '455243', '418322', '454992', '455203', '455222', '434025', '432109', '455857', '429294', '429212', '434002', '418529', '454870', '433671', '429222', '418549', '454900', '455065', '429249', '429263', '456056', '429225', '434052', '432147', '432083', '433559', '434061', '433654', '432067', '429286', '432178', '456308', '432204', '433783', '432341', '455127', '455173', '429248', '432057', '432114', '418631', '418355', '433459', '429125', '429221', '432225', '429198', '456132', '455038', '418469', '428973', '433824', '418333', '432383', '429325', '433761', '454949', '429122', '455099', '418591', '455116', '455123', '433988', '455755', '456320', '432332', '455224', '455168', '418615', '418348', '429164', '432308', '433710', '429202', '418536', '432291', '433851', '429277', '455838', '418525', '418319', '456073', '455960', '432039', '432128', '455170', '455037', '455112', '455161', '418530', '455879', '431999', '433802', '456199', '456363', '418464', '432284', '455876', '454911', '455352', '418332', '418352', '433587', '434004', '455308', '433724', '429153', '432169', '433599', '432019', '454959', '433984', '433611', '418403', '432119', '429105', '418380', '433593', '418644', '433911', '455988', '429200', '418296', '418478', '433573', '429345', '456228', '418538', '418603', '433946', '432144', '418572', '434076', '455940', '429118', '433827', '455108', '455858', '456360', '418657', '455030', '455810', '429349', '433833', '432041', '434067', '456017', '432120', '432366', '434003', '433754', '429276', '455092', '429063', '418351', '434042', '418387', '434048', '432267', '418598', '432387', '431998', '429166', '455898', '418346', '433602', '429168', '433837', '454888', '455002', '418571', '429303', '429346', '429250', '434011', '455202', '455841', '432253', '429176', '455254', '418467', '432151', '429274', '418527', '432210', '429047', '429143', '432157', '454996', '429121', '434064', '456140', '418394', '434014', '429252', '434079', '454890', '432006', '418465', '432254', '418364', '429272', '454968', '418377', '429040', '456161', '433577', '433679', '455177', '455062', '433608', '432258', '455808', '429082', '433468', '456066', '454944', '429045', '454962', '429103', '429355', '456093', '433875', '456280', '456203', '433512', '434017', '418630', '429025', '433699', '433849', '428979', '418338', '429139', '433760', '433775', '455992', '429044', '418548', '434037', '432208', '456266', '418407', '456188', '433763', '434020', '418384', '456181', '418362', '429193', '456259', '429334', '455026', '418447', '429107', '429305', '429069', '455048', '456270', '432224', '455250', '432177', '418311', '432209', '455834', '456352', '455142', '455147', '433779', '434018', '432042', '418665', '433610', '418576', '433738', '418670', '431949', '456294', '432118', '433505', '418488', '429230', '456044', '433579', '418509', '455763', '455015', '431953', '429328', '455750', '418586', '432015', '433992', '433813', '433967', '418628', '418317', '418546', '433581', '455845', '455086', '432150', '432001', '456150', '456117', '454882', '455934', '418528', '433695', '434044', '455837', '429245', '454938', '432022', '432060', '418532', '429216', '418623', '418594', '429246', '418448', '429092', '429161', '434069', '456119', '429251', '432184', '433809', '456013', '429049', '428953', '429247', '429278', '418570', '418639', '433996', '456168', '455129', '429026', '454925', '434015', '432190', '418666', '434032', '455914', '455186', '454884', '433776', '418589', '455221', '418480', '456240', '433488', '433781', '432290', '455854', '456344', '454994', '429135', '456257', '418646', '429034', '454859', '455012', '433898', '456318', '456207', '432373', '418388', '433820', '418329', '455045', '455737', '429335', '429256', '455856', '454874', '433514', '454896', '429099', '433618', '418336', '418462', '432087', '456291', '455220', '432247', '418604', '418588', '455101', '418454', '428958', '456212', '418461', '455915', '456292', '456264', '418617', '429240', '429322', '418400', '433845', '433519', '455351', '454964', '455190', '428989', '456251', '429204', '418654', '432255', '432246', '429228', '456276', '434005', '432369', '429283', '456045', '432236', '455033', '455996', '432374', '418531', '429229', '456050', '456169', '454987', '429095', '431975', '418376', '418468', '433978', '418293', '432273', '455047', '432099', '418422', '431984', '433769', '455742', '429120', '433778', '432084', '455832', '454883', '428987', '433720', '433897', '433737', '455338', '454886', '432314', '429060', '428964', '429110', '432055', '433863', '433832', '418347', '433853', '418511', '418550', '433859', '455044', '433780', '429260', '433866', '432073', '432153', '432172', '432139', '433643', '455922', '418583', '432201', '455070', '456141', '418696', '455137', '433843', '429159', '456133', '432282', '455109', '429182', '418321', '455905', '455964', '433507', '455980', '432338', '455344', '433637', '433574', '433756', '433453', '429233', '433804', '429031', '433740', '456101', '418305', '456100', '455849', '429191', '456300', '429067', '428996', '455848', '418595', '433634', '429187', '433890', '429003', '433991', '456261', '432036', '433590', '455210', '432241', '456058', '433684', '429353', '433707', '432182', '429174', '456374', '455991', '455152', '429133', '455770', '455790', '418396', '454903', '432287', '456164', '429237', '429053', '454936', '455072', '454958', '418309', '455024', '454993', '418697', '433764', '455818', '432324', '418300', '431970', '432163', '456001', '429086', '454916', '418385', '454955', '433879', '429023', '432264', '418574', '433719', '431971', '433772', '455928', '455252', '456310', '433743', '418334', '433564', '456180', '429014', '433557', '418456', '433731', '418609', '433487', '433578', '433607', '455950', '455089', '433784', '455863', '418690', '455193', '433572', '418513', '429296', '454979', '429188', '456227', '433497', '432263', '418375', '433665', '455822', '432038', '431968', '456252', '454904', '455258', '429134', '456367', '455861', '429195', '429254', '418526', '456021', '455869', '454891', '456085', '429149', '434029', '455859', '433892', '431972', '434031', '456324', '454930', '454915', '418625', '432268', '418543', '454973', '429081', '418501', '432305', '434049', '456371', '456147', '455874', '433467', '418472', '431962', '454981', '433458', '418298', '432020', '429136', '432138', '455232', '456122', '455310', '418476', '418568', '432141', '455016', '456079', '455299', '433532', '455769', '455295', '429342', '455311', '433473', '432276', '429270', '432261', '456361', '418445', '456031', '428966', '432249', '455150', '432240', '429287', '432330', '433663', '456351', '454977', '418299', '429285', '455053', '433656', '433861', '455923', '418510', '456004', '418667', '418545', '455886', '433633', '433774', '456077', '432065', '429196', '432025', '429097', '455167', '432375', '456082', '456103', '433977', '455164', '455084', '455102', '456026', '455138', '432136', '456204', '455749', '455855', '432232', '418475', '429180', '433751', '432148', '418554', '433968', '455361', '455771', '433491', '433651', '454895', '429199', '431985', '418618', '432396', '418349', '429154', '433822', '432032', '418508', '432281', '455842', '433909', '429007', '418533', '455274', '429163', '455201', '454963', '418619', '429261', '432033', '418418', '432097', '455355', '418420', '429171', '432134', '418411', '455013', '418634', '455007', '432380', '432117', '418370', '429162', '429282', '455141', '456309', '429167', '429275', '454975', '432092', '429140', '455333', '434000', '456067', '455117', '455777', '455919', '455063', '455131', '455994', '455758', '418327', '455877', '456342', '455182', '455234', '433552', '432174', '455908', '433762', '433948', '455851', '456014', '456173', '456260', '456234', '432205', '455797', '431969', '429284', '418551', '455990', '418485', '429190', '431952', '455219', '455757', '455971', '455909', '433626', '456303', '429142', '455961', '455149', '455196', '434034', '432313', '418482', '455880', '429226', '455828', '432315', '455785', '455843', '432044', '418622', '429333', '429147', '454991', '432126', '418359', '455946', '428959', '418523', '433460', '432137', '418307', '455297', '433623', '429192', '455228', '418493', '429224', '433777', '418600', '455788', '428998', '429108', '429165', '433716', '429046', '456053', '456126', '429320', '454941', '418292'}\n"
          ]
        }
      ],
      "source": [
        "#TASK 2\n",
        "docIDs = set(allDocsAsNumpyArraysTFidf.map(lambda x: x[0]).collect())\n",
        "sc.broadcast(docIDs)\n",
        "\n",
        "print(wikiCats.take(1))\n",
        "print(docIDs)"
      ]
    },
    {
      "cell_type": "code",
      "source": [
        "allDocsCatsRDD = wikiCats.map(lambda x: (x[0], x[1] if x[0] in docIDs else None)).filter(lambda x: x[1] != None)\n",
        "\n",
        "print(allDocsCatsRDD.take(1))"
      ],
      "metadata": {
        "colab": {
          "base_uri": "https://localhost:8080/"
        },
        "id": "gJdTIssJOUcn",
        "outputId": "e7bbe322-ee5f-4f65-ef9f-7677af03ab04"
      },
      "execution_count": null,
      "outputs": [
        {
          "output_type": "stream",
          "name": "stdout",
          "text": [
            "[('434042', '1987_debut_albums')]\n"
          ]
        }
      ]
    },
    {
      "cell_type": "code",
      "execution_count": null,
      "metadata": {
        "id": "2I9tlHTXv2gc"
      },
      "outputs": [],
      "source": [
        "# Finally, we have a function that returns the prediction for the label of a string, using a kNN algorithm\n",
        "def getPrediction (textInput, k):\n",
        "    # Create an RDD out of the textIput\n",
        "    myDoc = sc.parallelize (('', textInput))\n",
        "\n",
        "    # Flat map the text to (word, 1) pair for each word in the doc\n",
        "    wordsInThatDoc = myDoc.flatMap (lambda x : ((j, 1) for j in regex.sub(' ', x).lower().split()))\n",
        "\n",
        "    # This will give us a set of (word, (dictionaryPos, 1)) pairs\n",
        "    allDictionaryWordsInThatDoc = wordsInThatDoc.map(lambda x: (x[0], (x[1], dict_data.get(x[0]))) if x[0] in dict_data.keys() else None).filter(lambda x: x!=None).map (lambda x: (x[1][0], x[1][1])).groupByKey()\n",
        "\n",
        "    # Get tf array for the input string\n",
        "    myArray = buildArray (allDictionaryWordsInThatDoc.top (1)[0][1])\n",
        "\n",
        "    # Get the tf * idf array for the input string\n",
        "    myArray = np.multiply (myArray, idfArray)\n",
        "\n",
        "    # Get the distance from the input text string to all database documents, using cosine similarity (np.dot() )\n",
        "    distances = allDocsAsNumpyArraysTFidf.map (lambda x : (x[0], cousinSim (x[1],myArray))) #Use this line to calculate distance without featuresRDD\n",
        "    # get the top k distances\n",
        "    topK = distances.top (k, lambda x : x[1])\n",
        "    \n",
        "    # and transform the top k distances into a set of (docID, 1) pairs\n",
        "    docIDRepresented = sc.parallelize(topK).map (lambda x : (x[0], 1))\n",
        "\n",
        "    # now, for each docID, get the count of the number of times this document ID appeared in the top k\n",
        "    numTimes = docIDRepresented.reduceByKey(lambda x, y : x + y)\n",
        "    numTimes = allDocsCatsRDD.join(numTimes).map(lambda x: x[1]) #Joining here is much easier/faster than joining featuresRDD with wikiCats\n",
        "\n",
        "\n",
        "    # Return the top 1 of them.\n",
        "    return numTimes.top(k, lambda x: x[1])"
      ]
    },
    {
      "cell_type": "code",
      "execution_count": null,
      "metadata": {
        "id": "dg4-1_7Lv2gd",
        "colab": {
          "base_uri": "https://localhost:8080/"
        },
        "outputId": "34b6fb79-2d57-4770-dcf6-100e885b0951"
      },
      "outputs": [
        {
          "output_type": "stream",
          "name": "stdout",
          "text": [
            "[('1991_establishments_in_Bulgaria', 1), ('All_articles_with_dead_external_links', 1), ('Articles_with_dead_external_links_from_September_2019', 1), ('Articles_with_permanently_dead_external_links', 1), ('Commons_category_link_is_on_Wikidata', 1), ('Coordinates_on_Wikidata', 1), ('Educational_institutions_established_in_1991', 1), ('Liberal_arts_colleges', 1), ('Official_website_different_in_Wikidata_and_Wikipedia', 1), ('Pages_using_infobox_university_with_the_affiliations_parameter', 1)]\n"
          ]
        }
      ],
      "source": [
        "print(getPrediction('Sport Basketball Volleyball Soccer', 10))"
      ]
    },
    {
      "cell_type": "code",
      "execution_count": null,
      "metadata": {
        "id": "rgush4jyv2gd",
        "colab": {
          "base_uri": "https://localhost:8080/"
        },
        "outputId": "141b0fe3-80e1-44bd-bd73-5319b8346b42"
      },
      "outputs": [
        {
          "output_type": "stream",
          "name": "stdout",
          "text": [
            "[('All_Wikipedia_articles_written_in_Australian_English', 1), ('All_set_index_articles', 1), ('Articles_with_short_description', 1), ('Royal_Australian_Navy_ship_names', 1), ('Set_indices_on_ships', 1), ('Use_Australian_English_from_April_2018', 1), ('Use_dmy_dates_from_April_2018', 1), ('All_Wikipedia_articles_written_in_Australian_English', 1), ('All_set_index_articles', 1), ('Articles_with_short_description', 1)]\n"
          ]
        }
      ],
      "source": [
        "print(getPrediction('What is the capital city of Australia?', 10))"
      ]
    },
    {
      "cell_type": "code",
      "execution_count": null,
      "metadata": {
        "id": "0dpJqXyyv2gd",
        "colab": {
          "base_uri": "https://localhost:8080/"
        },
        "outputId": "74c5accd-d36a-406f-b219-7e3f6639c54c"
      },
      "outputs": [
        {
          "output_type": "stream",
          "name": "stdout",
          "text": [
            "[('All_Wikipedia_articles_in_need_of_updating', 1), ('Articles_with_obsolete_information_from_October_2019', 1), ('Expert_systems', 1), ('Inference', 1), ('Pages_using_web_citations_with_no_URL', 1), ('1990s_Canadian_teen_drama_television_series', 1), ('1991_Canadian_television_series_debuts', 1), ('1994_Canadian_television_series_endings', 1), ('All_stub_articles', 1), ('CBC_Television_shows', 1)]\n"
          ]
        }
      ],
      "source": [
        "print(getPrediction('How many goals Vancouver score last year?', 10))"
      ]
    },
    {
      "cell_type": "code",
      "execution_count": null,
      "metadata": {
        "id": "uiLRMFJIv2gd"
      },
      "outputs": [],
      "source": [
        "# Congratulations, you have implemented a prediction system based on Wikipedia data. \n",
        "# You can use this system to generate automated Tags or Categories for any kind of text \n",
        "# that you put in your query.\n",
        "# This data model can predict categories for any input text. "
      ]
    },
    {
      "cell_type": "code",
      "source": [
        "#TASK 3\n",
        "docsCatsDF = sqlContext.createDataFrame(allDocsCatsRDD, ['docID', 'category'])\n",
        "docsCatsDF = docsCatsDF.groupBy('category').agg({'docID': 'count'})\n",
        "print(docsCatsDF.select('count(docID)').summary().show())\n",
        "print(docsCatsDF.orderBy('count(docID)', ascending = False).limit(10).show())"
      ],
      "metadata": {
        "colab": {
          "base_uri": "https://localhost:8080/"
        },
        "id": "PPXZC2tsPN1q",
        "outputId": "cc578ad5-f12c-49b3-b774-6c7506c252c8"
      },
      "execution_count": null,
      "outputs": [
        {
          "output_type": "stream",
          "name": "stdout",
          "text": [
            "+-------+------------------+\n",
            "|summary|      count(docID)|\n",
            "+-------+------------------+\n",
            "|  count|              7153|\n",
            "|   mean|1.9264644205228576|\n",
            "| stddev|  8.43216550055147|\n",
            "|    min|                 1|\n",
            "|    25%|                 1|\n",
            "|    50%|                 1|\n",
            "|    75%|                 1|\n",
            "|    max|               273|\n",
            "+-------+------------------+\n",
            "\n",
            "None\n",
            "+--------------------+------------+\n",
            "|            category|count(docID)|\n",
            "+--------------------+------------+\n",
            "|Articles_with_sho...|         273|\n",
            "|All_articles_with...|         222|\n",
            "|Wikipedia_article...|         212|\n",
            "|Wikipedia_article...|         212|\n",
            "|Wikipedia_article...|         196|\n",
            "|Commons_category_...|         178|\n",
            "|Wikipedia_article...|         157|\n",
            "|Wikipedia_article...|         155|\n",
            "|All_articles_need...|         154|\n",
            "|Webarchive_templa...|         140|\n",
            "+--------------------+------------+\n",
            "\n",
            "None\n"
          ]
        }
      ]
    },
    {
      "cell_type": "code",
      "source": [
        "sc.stop()\n",
        "spark.stop()"
      ],
      "metadata": {
        "id": "OpsJPlXRo_rR"
      },
      "execution_count": null,
      "outputs": []
    }
  ],
  "metadata": {
    "kernelspec": {
      "display_name": "Python 3",
      "language": "python",
      "name": "python3"
    },
    "language_info": {
      "codemirror_mode": {
        "name": "ipython",
        "version": 3
      },
      "file_extension": ".py",
      "mimetype": "text/x-python",
      "name": "python",
      "nbconvert_exporter": "python",
      "pygments_lexer": "ipython3",
      "version": "3.8.2"
    },
    "colab": {
      "name": "MET CS 777 Assignment 2 Horak",
      "provenance": [],
      "collapsed_sections": [],
      "include_colab_link": true
    }
  },
  "nbformat": 4,
  "nbformat_minor": 0
}